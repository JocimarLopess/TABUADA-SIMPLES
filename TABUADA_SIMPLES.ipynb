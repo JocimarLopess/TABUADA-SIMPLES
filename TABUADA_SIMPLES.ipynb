{
  "nbformat": 4,
  "nbformat_minor": 0,
  "metadata": {
    "colab": {
      "name": "TABUADA SIMPLES.ipynb",
      "provenance": [],
      "authorship_tag": "ABX9TyMIyfTpqNDhL3kX481c6D9z",
      "include_colab_link": true
    },
    "kernelspec": {
      "name": "python3",
      "display_name": "Python 3"
    },
    "language_info": {
      "name": "python"
    }
  },
  "cells": [
    {
      "cell_type": "markdown",
      "metadata": {
        "id": "view-in-github",
        "colab_type": "text"
      },
      "source": [
        "<a href=\"https://colab.research.google.com/github/JocimarLopess/TABUADA-SIMPLES/blob/main/TABUADA_SIMPLES.ipynb\" target=\"_parent\"><img src=\"https://colab.research.google.com/assets/colab-badge.svg\" alt=\"Open In Colab\"/></a>"
      ]
    },
    {
      "cell_type": "markdown",
      "source": [
        "CRIAÇÃO DE TABUADA"
      ],
      "metadata": {
        "id": "YZyJUIPJG_Ur"
      }
    },
    {
      "cell_type": "code",
      "execution_count": null,
      "metadata": {
        "id": "HELBOWHAG4N_"
      },
      "outputs": [],
      "source": [
        "for tabuada in range(1, 11, 1):\n",
        "  print('TABUADA DO {}:'.format(tabuada))\n",
        "  for i in range(1, 11, 1):\n",
        "    print('{} x {} = {}'.format(tabuada, i, tabuada * i))"
      ]
    }
  ]
}